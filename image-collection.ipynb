{
 "cells": [
  {
   "cell_type": "markdown",
   "metadata": {},
   "source": [
    "# Import Dependencies"
   ]
  },
  {
   "cell_type": "code",
   "execution_count": 1,
   "metadata": {},
   "outputs": [],
   "source": [
    "import cv2 #opencv\n",
    "import os #for file path\n",
    "import time #for creating break while taking picture\n",
    "import uuid #unique identifier for file naming"
   ]
  },
  {
   "cell_type": "markdown",
   "metadata": {},
   "source": [
    "# Initialised structures"
   ]
  },
  {
   "cell_type": "code",
   "execution_count": 2,
   "metadata": {},
   "outputs": [],
   "source": [
    "#file path for collected images\n",
    "parents_path = 'workspace/images/collectedimages/'"
   ]
  },
  {
   "cell_type": "code",
   "execution_count": 3,
   "metadata": {},
   "outputs": [],
   "source": [
    "#function to check the folder and create a new folder if it's not exists\n",
    "def makedir(path):\n",
    "    #if the path is not exists, it will create a new path\n",
    "    if not os.path.exists(path):\n",
    "        os.makedirs(path)   \n",
    "    return path"
   ]
  },
  {
   "cell_type": "code",
   "execution_count": 4,
   "metadata": {},
   "outputs": [],
   "source": [
    "#function to collect imgs\n",
    "def col_img(label, num_img):\n",
    "    #create label path\n",
    "    makedir(os.path.join(parents_path, label))\n",
    "    #initialise the camera\n",
    "    cap = cv2.VideoCapture(0)\n",
    "    for nums in range(num_img):\n",
    "        #reading the camera\n",
    "        stat, frame = cap.read()\n",
    "        #initialise the img path\n",
    "        img_path = os.path.join(parents_path, label, label+'.'+f'{str(uuid.uuid1())}.jpg')\n",
    "        #create the img\n",
    "        cv2.imwrite(img_path, frame)\n",
    "        cv2.imshow('frame', frame)\n",
    "        print(f'Image {nums}')\n",
    "        #camera will pause for 3 seconds before taking for the next pic\n",
    "        time.sleep(2)\n",
    "\n",
    "        #close the camera by press q\n",
    "        if cv2.waitKey(1) & 0xff == ord('q'):\n",
    "            break\n",
    "    print(f'collecting picture for {label}')\n",
    "    #release the camera frame\n",
    "    cap.release()\n",
    "    #close window after finish taking picture\n",
    "    cv2.destroyAllWindows()"
   ]
  },
  {
   "cell_type": "code",
   "execution_count": 24,
   "metadata": {},
   "outputs": [],
   "source": [
    "#categories of the images\n",
    "labels = ['thumbsup', 'thumbsdown', 'thankyou', 'livelong','hello']\n",
    "#labels = ['hi', 'my', 'name', 'd', 'e', 'v', 'y', 'p', 'r', 'i', 'a', 'k', 'n', 'thankyou', 'livelong', 'hello']\n",
    "#number of img per categories\n",
    "num_img = 10"
   ]
  },
  {
   "cell_type": "markdown",
   "metadata": {},
   "source": [
    "# Collecting images"
   ]
  },
  {
   "cell_type": "code",
   "execution_count": 14,
   "metadata": {},
   "outputs": [],
   "source": [
    "for x in labels:\n",
    "    #calling function to collect the images\n",
    "    col_img(x, num_img)"
   ]
  },
  {
   "cell_type": "markdown",
   "metadata": {},
   "source": [
    "# Image annotation"
   ]
  },
  {
   "cell_type": "code",
   "execution_count": 26,
   "metadata": {},
   "outputs": [
    {
     "name": "stderr",
     "output_type": "stream",
     "text": [
      "Cloning into 'labelimg'...\n"
     ]
    }
   ],
   "source": [
    "#check if labelimg is in the project folder or not\n",
    "LABELIMG_PATH = 'labelimg'\n",
    "if not os.path.exists(LABELIMG_PATH):\n",
    "    os.mkdir(LABELIMG_PATH)\n",
    "    !git clone https://github.com/tzutalin/labelImg {LABELIMG_PATH}"
   ]
  },
  {
   "cell_type": "code",
   "execution_count": 30,
   "metadata": {},
   "outputs": [],
   "source": [
    "if os.name == 'posix':\n",
    "    !make qt5py3\n",
    "if os.name =='nt':\n",
    "    !cd {LABELIMG_PATH} && pyrcc5 -o libs/resources.py resources.qrc"
   ]
  },
  {
   "cell_type": "code",
   "execution_count": 31,
   "metadata": {},
   "outputs": [
    {
     "name": "stdout",
     "output_type": "stream",
     "text": [
      "Image:C:\\Users\\dvnbi\\Documents\\tensorflow\\workspace\\training_demo\\images\\collectedimages\\a\\a.ebe459b9-1ad3-11ed-b139-94085359df50.jpg -> Annotation:C:/Users/dvnbi/Documents/tensorflow/workspace/training_demo/images/collectedimages/a\\a.ebe459b9-1ad3-11ed-b139-94085359df50.xml\n",
      "Image:C:\\Users\\dvnbi\\Documents\\tensorflow\\workspace\\training_demo\\images\\collectedimages\\a\\a.ed1bc5a1-1ad3-11ed-9975-94085359df50.jpg -> Annotation:C:/Users/dvnbi/Documents/tensorflow/workspace/training_demo/images/collectedimages/a\\a.ed1bc5a1-1ad3-11ed-9975-94085359df50.xml\n",
      "Image:C:\\Users\\dvnbi\\Documents\\tensorflow\\workspace\\training_demo\\images\\collectedimages\\a\\a.ee50c554-1ad3-11ed-8792-94085359df50.jpg -> Annotation:C:/Users/dvnbi/Documents/tensorflow/workspace/training_demo/images/collectedimages/a\\a.ee50c554-1ad3-11ed-8792-94085359df50.xml\n",
      "Image:C:\\Users\\dvnbi\\Documents\\tensorflow\\workspace\\training_demo\\images\\collectedimages\\a\\a.ef8560af-1ad3-11ed-842c-94085359df50.jpg -> Annotation:C:/Users/dvnbi/Documents/tensorflow/workspace/training_demo/images/collectedimages/a\\a.ef8560af-1ad3-11ed-842c-94085359df50.xml\n",
      "Image:C:\\Users\\dvnbi\\Documents\\tensorflow\\workspace\\training_demo\\images\\collectedimages\\a\\a.f0b926fb-1ad3-11ed-b7a1-94085359df50.jpg -> Annotation:C:/Users/dvnbi/Documents/tensorflow/workspace/training_demo/images/collectedimages/a\\a.f0b926fb-1ad3-11ed-b7a1-94085359df50.xml\n",
      "Image:C:\\Users\\dvnbi\\Documents\\tensorflow\\workspace\\training_demo\\images\\collectedimages\\a\\a.f1ed7c6c-1ad3-11ed-9bbc-94085359df50.jpg -> Annotation:C:/Users/dvnbi/Documents/tensorflow/workspace/training_demo/images/collectedimages/a\\a.f1ed7c6c-1ad3-11ed-9bbc-94085359df50.xml\n",
      "Image:C:\\Users\\dvnbi\\Documents\\tensorflow\\workspace\\training_demo\\images\\collectedimages\\a\\a.f6bf67ac-1ad3-11ed-a679-94085359df50.jpg -> Annotation:C:/Users/dvnbi/Documents/tensorflow/workspace/training_demo/images/collectedimages/a\\a.f6bf67ac-1ad3-11ed-a679-94085359df50.xml\n",
      "Image:C:\\Users\\dvnbi\\Documents\\tensorflow\\workspace\\training_demo\\images\\collectedimages\\a\\a.f58c1f70-1ad3-11ed-88ea-94085359df50.jpg -> Annotation:C:/Users/dvnbi/Documents/tensorflow/workspace/training_demo/images/collectedimages/a\\a.f58c1f70-1ad3-11ed-88ea-94085359df50.xml\n",
      "Image:C:\\Users\\dvnbi\\Documents\\tensorflow\\workspace\\training_demo\\images\\collectedimages\\a\\a.f456f78e-1ad3-11ed-9b01-94085359df50.jpg -> Annotation:C:/Users/dvnbi/Documents/tensorflow/workspace/training_demo/images/collectedimages/a\\a.f456f78e-1ad3-11ed-9b01-94085359df50.xml\n",
      "Image:C:\\Users\\dvnbi\\Documents\\tensorflow\\workspace\\training_demo\\images\\collectedimages\\a\\a.f3219ad6-1ad3-11ed-9b77-94085359df50.jpg -> Annotation:C:/Users/dvnbi/Documents/tensorflow/workspace/training_demo/images/collectedimages/a\\a.f3219ad6-1ad3-11ed-9b77-94085359df50.xml\n",
      "Image:C:\\Users\\dvnbi\\Documents\\tensorflow\\workspace\\training_demo\\images\\collectedimages\\d\\d.ef18dd08-1ad2-11ed-9880-94085359df50.jpg -> Annotation:C:/Users/dvnbi/Documents/tensorflow/workspace/training_demo/images/collectedimages/d\\d.ef18dd08-1ad2-11ed-9880-94085359df50.xml\n",
      "Image:C:\\Users\\dvnbi\\Documents\\tensorflow\\workspace\\training_demo\\images\\collectedimages\\d\\d.f2b6fff6-1ad2-11ed-ac4a-94085359df50.jpg -> Annotation:C:/Users/dvnbi/Documents/tensorflow/workspace/training_demo/images/collectedimages/d\\d.f2b6fff6-1ad2-11ed-ac4a-94085359df50.xml\n",
      "Image:C:\\Users\\dvnbi\\Documents\\tensorflow\\workspace\\training_demo\\images\\collectedimages\\d\\d.f3ea7a9c-1ad2-11ed-9a70-94085359df50.jpg -> Annotation:C:/Users/dvnbi/Documents/tensorflow/workspace/training_demo/images/collectedimages/d\\d.f3ea7a9c-1ad2-11ed-9a70-94085359df50.xml\n",
      "Image:C:\\Users\\dvnbi\\Documents\\tensorflow\\workspace\\training_demo\\images\\collectedimages\\d\\d.f04f9c19-1ad2-11ed-9cde-94085359df50.jpg -> Annotation:C:/Users/dvnbi/Documents/tensorflow/workspace/training_demo/images/collectedimages/d\\d.f04f9c19-1ad2-11ed-9cde-94085359df50.xml\n",
      "Image:C:\\Users\\dvnbi\\Documents\\tensorflow\\workspace\\training_demo\\images\\collectedimages\\d\\d.f8ba4d03-1ad2-11ed-a4fd-94085359df50.jpg -> Annotation:C:/Users/dvnbi/Documents/tensorflow/workspace/training_demo/images/collectedimages/d\\d.f8ba4d03-1ad2-11ed-a4fd-94085359df50.xml\n",
      "Image:C:\\Users\\dvnbi\\Documents\\tensorflow\\workspace\\training_demo\\images\\collectedimages\\d\\d.f9ed1797-1ad2-11ed-82cc-94085359df50.jpg -> Annotation:C:/Users/dvnbi/Documents/tensorflow/workspace/training_demo/images/collectedimages/d\\d.f9ed1797-1ad2-11ed-82cc-94085359df50.xml\n",
      "Image:C:\\Users\\dvnbi\\Documents\\tensorflow\\workspace\\training_demo\\images\\collectedimages\\d\\d.f51e95e8-1ad2-11ed-9196-94085359df50.jpg -> Annotation:C:/Users/dvnbi/Documents/tensorflow/workspace/training_demo/images/collectedimages/d\\d.f51e95e8-1ad2-11ed-9196-94085359df50.xml\n",
      "Image:C:\\Users\\dvnbi\\Documents\\tensorflow\\workspace\\training_demo\\images\\collectedimages\\d\\d.f652edb4-1ad2-11ed-9064-94085359df50.jpg -> Annotation:C:/Users/dvnbi/Documents/tensorflow/workspace/training_demo/images/collectedimages/d\\d.f652edb4-1ad2-11ed-9064-94085359df50.xml\n",
      "Image:C:\\Users\\dvnbi\\Documents\\tensorflow\\workspace\\training_demo\\images\\collectedimages\\d\\d.f1842ce8-1ad2-11ed-a065-94085359df50.jpg -> Annotation:C:/Users/dvnbi/Documents/tensorflow/workspace/training_demo/images/collectedimages/d\\d.f1842ce8-1ad2-11ed-a065-94085359df50.xml\n",
      "Image:C:\\Users\\dvnbi\\Documents\\tensorflow\\workspace\\training_demo\\images\\collectedimages\\d\\d.f78758f1-1ad2-11ed-afee-94085359df50.jpg -> Annotation:C:/Users/dvnbi/Documents/tensorflow/workspace/training_demo/images/collectedimages/d\\d.f78758f1-1ad2-11ed-afee-94085359df50.xml\n",
      "Image:C:\\Users\\dvnbi\\Documents\\tensorflow\\workspace\\training_demo\\images\\collectedimages\\e\\e.0cc70693-1ad3-11ed-8621-94085359df50.jpg -> Annotation:C:/Users/dvnbi/Documents/tensorflow/workspace/training_demo/images/collectedimages/e\\e.0cc70693-1ad3-11ed-8621-94085359df50.xml\n",
      "Image:C:\\Users\\dvnbi\\Documents\\tensorflow\\workspace\\training_demo\\images\\collectedimages\\e\\e.0dfc2bad-1ad3-11ed-8e11-94085359df50.jpg -> Annotation:C:/Users/dvnbi/Documents/tensorflow/workspace/training_demo/images/collectedimages/e\\e.0dfc2bad-1ad3-11ed-8e11-94085359df50.xml\n",
      "Image:C:\\Users\\dvnbi\\Documents\\tensorflow\\workspace\\training_demo\\images\\collectedimages\\e\\e.0f2f4c59-1ad3-11ed-96c3-94085359df50.jpg -> Annotation:C:/Users/dvnbi/Documents/tensorflow/workspace/training_demo/images/collectedimages/e\\e.0f2f4c59-1ad3-11ed-96c3-94085359df50.xml\n",
      "Image:C:\\Users\\dvnbi\\Documents\\tensorflow\\workspace\\training_demo\\images\\collectedimages\\e\\e.179d656d-1ad3-11ed-a181-94085359df50.jpg -> Annotation:C:/Users/dvnbi/Documents/tensorflow/workspace/training_demo/images/collectedimages/e\\e.179d656d-1ad3-11ed-a181-94085359df50.xml\n",
      "Image:C:\\Users\\dvnbi\\Documents\\tensorflow\\workspace\\training_demo\\images\\collectedimages\\e\\e.1198e7a5-1ad3-11ed-ba7e-94085359df50.jpg -> Annotation:C:/Users/dvnbi/Documents/tensorflow/workspace/training_demo/images/collectedimages/e\\e.1198e7a5-1ad3-11ed-ba7e-94085359df50.xml\n",
      "Image:C:\\Users\\dvnbi\\Documents\\tensorflow\\workspace\\training_demo\\images\\collectedimages\\e\\e.1535dc31-1ad3-11ed-9442-94085359df50.jpg -> Annotation:C:/Users/dvnbi/Documents/tensorflow/workspace/training_demo/images/collectedimages/e\\e.1535dc31-1ad3-11ed-9442-94085359df50.xml\n",
      "Image:C:\\Users\\dvnbi\\Documents\\tensorflow\\workspace\\training_demo\\images\\collectedimages\\e\\e.10650d19-1ad3-11ed-82d2-94085359df50.jpg -> Annotation:C:/Users/dvnbi/Documents/tensorflow/workspace/training_demo/images/collectedimages/e\\e.10650d19-1ad3-11ed-82d2-94085359df50.xml\n",
      "Image:C:\\Users\\dvnbi\\Documents\\tensorflow\\workspace\\training_demo\\images\\collectedimages\\e\\e.14012d7c-1ad3-11ed-a442-94085359df50.jpg -> Annotation:C:/Users/dvnbi/Documents/tensorflow/workspace/training_demo/images/collectedimages/e\\e.14012d7c-1ad3-11ed-a442-94085359df50.xml\n",
      "Image:C:\\Users\\dvnbi\\Documents\\tensorflow\\workspace\\training_demo\\images\\collectedimages\\e\\e.166917a3-1ad3-11ed-a7a3-94085359df50.jpg -> Annotation:C:/Users/dvnbi/Documents/tensorflow/workspace/training_demo/images/collectedimages/e\\e.166917a3-1ad3-11ed-a7a3-94085359df50.xml\n",
      "Image:C:\\Users\\dvnbi\\Documents\\tensorflow\\workspace\\training_demo\\images\\collectedimages\\hello\\hello.7a970681-1ad4-11ed-bb15-94085359df50.jpg -> Annotation:C:/Users/dvnbi/Documents/tensorflow/workspace/training_demo/images/collectedimages/hello\\hello.7a970681-1ad4-11ed-bb15-94085359df50.xml\n",
      "Image:C:\\Users\\dvnbi\\Documents\\tensorflow\\workspace\\training_demo\\images\\collectedimages\\hello\\hello.7bca6a8e-1ad4-11ed-98ca-94085359df50.jpg -> Annotation:C:/Users/dvnbi/Documents/tensorflow/workspace/training_demo/images/collectedimages/hello\\hello.7bca6a8e-1ad4-11ed-98ca-94085359df50.xml\n",
      "Image:C:\\Users\\dvnbi\\Documents\\tensorflow\\workspace\\training_demo\\images\\collectedimages\\hello\\hello.7cfd73d8-1ad4-11ed-87e7-94085359df50.jpg -> Annotation:C:/Users/dvnbi/Documents/tensorflow/workspace/training_demo/images/collectedimages/hello\\hello.7cfd73d8-1ad4-11ed-87e7-94085359df50.xml\n",
      "Image:C:\\Users\\dvnbi\\Documents\\tensorflow\\workspace\\training_demo\\images\\collectedimages\\hello\\hello.7e30e000-1ad4-11ed-b7dc-94085359df50.jpg -> Annotation:C:/Users/dvnbi/Documents/tensorflow/workspace/training_demo/images/collectedimages/hello\\hello.7e30e000-1ad4-11ed-b7dc-94085359df50.xml\n",
      "Image:C:\\Users\\dvnbi\\Documents\\tensorflow\\workspace\\training_demo\\images\\collectedimages\\hello\\hello.75c53f4d-1ad4-11ed-bf95-94085359df50.jpg -> Annotation:C:/Users/dvnbi/Documents/tensorflow/workspace/training_demo/images/collectedimages/hello\\hello.75c53f4d-1ad4-11ed-bf95-94085359df50.xml\n",
      "Image:C:\\Users\\dvnbi\\Documents\\tensorflow\\workspace\\training_demo\\images\\collectedimages\\hello\\hello.76fbe7f9-1ad4-11ed-af79-94085359df50.jpg -> Annotation:C:/Users/dvnbi/Documents/tensorflow/workspace/training_demo/images/collectedimages/hello\\hello.76fbe7f9-1ad4-11ed-af79-94085359df50.xml\n",
      "Image:C:\\Users\\dvnbi\\Documents\\tensorflow\\workspace\\training_demo\\images\\collectedimages\\hello\\hello.79643c50-1ad4-11ed-86d4-94085359df50.jpg -> Annotation:C:/Users/dvnbi/Documents/tensorflow/workspace/training_demo/images/collectedimages/hello\\hello.79643c50-1ad4-11ed-86d4-94085359df50.xml\n",
      "Image:C:\\Users\\dvnbi\\Documents\\tensorflow\\workspace\\training_demo\\images\\collectedimages\\hello\\hello.7830890f-1ad4-11ed-a284-94085359df50.jpg -> Annotation:C:/Users/dvnbi/Documents/tensorflow/workspace/training_demo/images/collectedimages/hello\\hello.7830890f-1ad4-11ed-a284-94085359df50.xml\n",
      "Image:C:\\Users\\dvnbi\\Documents\\tensorflow\\workspace\\training_demo\\images\\collectedimages\\hello\\hello.80989129-1ad4-11ed-bed9-94085359df50.jpg -> Annotation:C:/Users/dvnbi/Documents/tensorflow/workspace/training_demo/images/collectedimages/hello\\hello.80989129-1ad4-11ed-bed9-94085359df50.xml\n",
      "Image:C:\\Users\\dvnbi\\Documents\\tensorflow\\workspace\\training_demo\\images\\collectedimages\\hi\\hi.0b072ee7-1ad1-11ed-ac03-94085359df50.jpg -> Annotation:C:/Users/dvnbi/Documents/tensorflow/workspace/training_demo/images/collectedimages/hi\\hi.0b072ee7-1ad1-11ed-ac03-94085359df50.xml\n",
      "Image:C:\\Users\\dvnbi\\Documents\\tensorflow\\workspace\\training_demo\\images\\collectedimages\\hi\\hi.0c3ae476-1ad1-11ed-a623-94085359df50.jpg -> Annotation:C:/Users/dvnbi/Documents/tensorflow/workspace/training_demo/images/collectedimages/hi\\hi.0c3ae476-1ad1-11ed-a623-94085359df50.xml\n",
      "Image:C:\\Users\\dvnbi\\Documents\\tensorflow\\workspace\\training_demo\\images\\collectedimages\\hi\\hi.0d6f278b-1ad1-11ed-b6cd-94085359df50.jpg -> Annotation:C:/Users/dvnbi/Documents/tensorflow/workspace/training_demo/images/collectedimages/hi\\hi.0d6f278b-1ad1-11ed-b6cd-94085359df50.xml\n",
      "Image:C:\\Users\\dvnbi\\Documents\\tensorflow\\workspace\\training_demo\\images\\collectedimages\\hi\\hi.03d063e8-1ad1-11ed-aa95-94085359df50.jpg -> Annotation:C:/Users/dvnbi/Documents/tensorflow/workspace/training_demo/images/collectedimages/hi\\hi.03d063e8-1ad1-11ed-aa95-94085359df50.xml\n",
      "Image:C:\\Users\\dvnbi\\Documents\\tensorflow\\workspace\\training_demo\\images\\collectedimages\\hi\\hi.08a0735e-1ad1-11ed-9c00-94085359df50.jpg -> Annotation:C:/Users/dvnbi/Documents/tensorflow/workspace/training_demo/images/collectedimages/hi\\hi.08a0735e-1ad1-11ed-9c00-94085359df50.xml\n",
      "Image:C:\\Users\\dvnbi\\Documents\\tensorflow\\workspace\\training_demo\\images\\collectedimages\\hi\\hi.09d45422-1ad1-11ed-b552-94085359df50.jpg -> Annotation:C:/Users/dvnbi/Documents/tensorflow/workspace/training_demo/images/collectedimages/hi\\hi.09d45422-1ad1-11ed-b552-94085359df50.xml\n",
      "Image:C:\\Users\\dvnbi\\Documents\\tensorflow\\workspace\\training_demo\\images\\collectedimages\\hi\\hi.076cc020-1ad1-11ed-9fd2-94085359df50.jpg -> Annotation:C:/Users/dvnbi/Documents/tensorflow/workspace/training_demo/images/collectedimages/hi\\hi.076cc020-1ad1-11ed-9fd2-94085359df50.xml\n",
      "Image:C:\\Users\\dvnbi\\Documents\\tensorflow\\workspace\\training_demo\\images\\collectedimages\\hi\\hi.0637ea4e-1ad1-11ed-ad44-94085359df50.jpg -> Annotation:C:/Users/dvnbi/Documents/tensorflow/workspace/training_demo/images/collectedimages/hi\\hi.0637ea4e-1ad1-11ed-ad44-94085359df50.xml\n",
      "Image:C:\\Users\\dvnbi\\Documents\\tensorflow\\workspace\\training_demo\\images\\collectedimages\\hi\\hi.050506f0-1ad1-11ed-b9b0-94085359df50.jpg -> Annotation:C:/Users/dvnbi/Documents/tensorflow/workspace/training_demo/images/collectedimages/hi\\hi.050506f0-1ad1-11ed-b9b0-94085359df50.xml\n",
      "Image:C:\\Users\\dvnbi\\Documents\\tensorflow\\workspace\\training_demo\\images\\collectedimages\\i\\i.d4b299a0-1ad3-11ed-8d6b-94085359df50.jpg -> Annotation:C:/Users/dvnbi/Documents/tensorflow/workspace/training_demo/images/collectedimages/i\\i.d4b299a0-1ad3-11ed-8d6b-94085359df50.xml\n",
      "Image:C:\\Users\\dvnbi\\Documents\\tensorflow\\workspace\\training_demo\\images\\collectedimages\\i\\i.d5e61d10-1ad3-11ed-bc48-94085359df50.jpg -> Annotation:C:/Users/dvnbi/Documents/tensorflow/workspace/training_demo/images/collectedimages/i\\i.d5e61d10-1ad3-11ed-bc48-94085359df50.xml\n",
      "Image:C:\\Users\\dvnbi\\Documents\\tensorflow\\workspace\\training_demo\\images\\collectedimages\\i\\i.d4b299a0-1ad3-11ed-8d6b-94085359df50.jpg -> Annotation:C:/Users/dvnbi/Documents/tensorflow/workspace/training_demo/images/collectedimages/i\\i.d4b299a0-1ad3-11ed-8d6b-94085359df50.xml\n",
      "Image:C:\\Users\\dvnbi\\Documents\\tensorflow\\workspace\\training_demo\\images\\collectedimages\\i\\i.d5e61d10-1ad3-11ed-bc48-94085359df50.jpg -> Annotation:C:/Users/dvnbi/Documents/tensorflow/workspace/training_demo/images/collectedimages/i\\i.d5e61d10-1ad3-11ed-bc48-94085359df50.xml\n",
      "Image:C:\\Users\\dvnbi\\Documents\\tensorflow\\workspace\\training_demo\\images\\collectedimages\\i\\i.d4b299a0-1ad3-11ed-8d6b-94085359df50.jpg -> Annotation:C:/Users/dvnbi/Documents/tensorflow/workspace/training_demo/images/collectedimages/i\\i.d4b299a0-1ad3-11ed-8d6b-94085359df50.xml\n",
      "Image:C:\\Users\\dvnbi\\Documents\\tensorflow\\workspace\\training_demo\\images\\collectedimages\\i\\i.d5e61d10-1ad3-11ed-bc48-94085359df50.jpg -> Annotation:C:/Users/dvnbi/Documents/tensorflow/workspace/training_demo/images/collectedimages/i\\i.d5e61d10-1ad3-11ed-bc48-94085359df50.xml\n",
      "Image:C:\\Users\\dvnbi\\Documents\\tensorflow\\workspace\\training_demo\\images\\collectedimages\\i\\i.d37e8a8c-1ad3-11ed-b82d-94085359df50.jpg -> Annotation:C:/Users/dvnbi/Documents/tensorflow/workspace/training_demo/images/collectedimages/i\\i.d37e8a8c-1ad3-11ed-b82d-94085359df50.xml\n",
      "Image:C:\\Users\\dvnbi\\Documents\\tensorflow\\workspace\\training_demo\\images\\collectedimages\\i\\i.d84df5f3-1ad3-11ed-be23-94085359df50.jpg -> Annotation:C:/Users/dvnbi/Documents/tensorflow/workspace/training_demo/images/collectedimages/i\\i.d84df5f3-1ad3-11ed-be23-94085359df50.xml\n",
      "Image:C:\\Users\\dvnbi\\Documents\\tensorflow\\workspace\\training_demo\\images\\collectedimages\\i\\i.d247e88e-1ad3-11ed-95b8-94085359df50.jpg -> Annotation:C:/Users/dvnbi/Documents/tensorflow/workspace/training_demo/images/collectedimages/i\\i.d247e88e-1ad3-11ed-95b8-94085359df50.xml\n",
      "Image:C:\\Users\\dvnbi\\Documents\\tensorflow\\workspace\\training_demo\\images\\collectedimages\\i\\i.d981f1a6-1ad3-11ed-a778-94085359df50.jpg -> Annotation:C:/Users/dvnbi/Documents/tensorflow/workspace/training_demo/images/collectedimages/i\\i.d981f1a6-1ad3-11ed-a778-94085359df50.xml\n",
      "Image:C:\\Users\\dvnbi\\Documents\\tensorflow\\workspace\\training_demo\\images\\collectedimages\\i\\i.d71936d2-1ad3-11ed-bfdd-94085359df50.jpg -> Annotation:C:/Users/dvnbi/Documents/tensorflow/workspace/training_demo/images/collectedimages/i\\i.d71936d2-1ad3-11ed-bfdd-94085359df50.xml\n",
      "Image:C:\\Users\\dvnbi\\Documents\\tensorflow\\workspace\\training_demo\\images\\collectedimages\\i\\i.dab61450-1ad3-11ed-b0ce-94085359df50.jpg -> Annotation:C:/Users/dvnbi/Documents/tensorflow/workspace/training_demo/images/collectedimages/i\\i.dab61450-1ad3-11ed-b0ce-94085359df50.xml\n",
      "Image:C:\\Users\\dvnbi\\Documents\\tensorflow\\workspace\\training_demo\\images\\collectedimages\\i\\i.dd1ecacb-1ad3-11ed-9ebf-94085359df50.jpg -> Annotation:C:/Users/dvnbi/Documents/tensorflow/workspace/training_demo/images/collectedimages/i\\i.dd1ecacb-1ad3-11ed-9ebf-94085359df50.xml\n",
      "Image:C:\\Users\\dvnbi\\Documents\\tensorflow\\workspace\\training_demo\\images\\collectedimages\\k\\k.1b00c2a4-1ad4-11ed-a2b2-94085359df50.jpg -> Annotation:C:/Users/dvnbi/Documents/tensorflow/workspace/training_demo/images/collectedimages/k\\k.1b00c2a4-1ad4-11ed-a2b2-94085359df50.xml\n",
      "Cancel creation.\n",
      "Image:C:\\Users\\dvnbi\\Documents\\tensorflow\\workspace\\training_demo\\images\\collectedimages\\k\\k.1c359305-1ad4-11ed-8d61-94085359df50.jpg -> Annotation:C:/Users/dvnbi/Documents/tensorflow/workspace/training_demo/images/collectedimages/k\\k.1c359305-1ad4-11ed-8d61-94085359df50.xml\n",
      "Image:C:\\Users\\dvnbi\\Documents\\tensorflow\\workspace\\training_demo\\images\\collectedimages\\k\\k.13c8d116-1ad4-11ed-b442-94085359df50.jpg -> Annotation:C:/Users/dvnbi/Documents/tensorflow/workspace/training_demo/images/collectedimages/k\\k.13c8d116-1ad4-11ed-b442-94085359df50.xml\n",
      "Image:C:\\Users\\dvnbi\\Documents\\tensorflow\\workspace\\training_demo\\images\\collectedimages\\k\\k.14fe3000-1ad4-11ed-8516-94085359df50.jpg -> Annotation:C:/Users/dvnbi/Documents/tensorflow/workspace/training_demo/images/collectedimages/k\\k.14fe3000-1ad4-11ed-8516-94085359df50.xml\n",
      "Image:C:\\Users\\dvnbi\\Documents\\tensorflow\\workspace\\training_demo\\images\\collectedimages\\k\\k.19cc4078-1ad4-11ed-b498-94085359df50.jpg -> Annotation:C:/Users/dvnbi/Documents/tensorflow/workspace/training_demo/images/collectedimages/k\\k.19cc4078-1ad4-11ed-b498-94085359df50.xml\n",
      "Image:C:\\Users\\dvnbi\\Documents\\tensorflow\\workspace\\training_demo\\images\\collectedimages\\k\\k.115ccc56-1ad4-11ed-b74f-94085359df50.jpg -> Annotation:C:/Users/dvnbi/Documents/tensorflow/workspace/training_demo/images/collectedimages/k\\k.115ccc56-1ad4-11ed-b74f-94085359df50.xml\n",
      "Image:C:\\Users\\dvnbi\\Documents\\tensorflow\\workspace\\training_demo\\images\\collectedimages\\livelong\\livelong.5be2bfc8-1ad4-11ed-8ecf-94085359df50.jpg -> Annotation:C:/Users/dvnbi/Documents/tensorflow/workspace/training_demo/images/collectedimages/livelong\\livelong.5be2bfc8-1ad4-11ed-8ecf-94085359df50.xml\n",
      "Image:C:\\Users\\dvnbi\\Documents\\tensorflow\\workspace\\training_demo\\images\\collectedimages\\livelong\\livelong.5d18c4f4-1ad4-11ed-b1f2-94085359df50.jpg -> Annotation:C:/Users/dvnbi/Documents/tensorflow/workspace/training_demo/images/collectedimages/livelong\\livelong.5d18c4f4-1ad4-11ed-b1f2-94085359df50.xml\n",
      "Image:C:\\Users\\dvnbi\\Documents\\tensorflow\\workspace\\training_demo\\images\\collectedimages\\livelong\\livelong.5e4b7944-1ad4-11ed-9d96-94085359df50.jpg -> Annotation:C:/Users/dvnbi/Documents/tensorflow/workspace/training_demo/images/collectedimages/livelong\\livelong.5e4b7944-1ad4-11ed-9d96-94085359df50.xml\n",
      "Image:C:\\Users\\dvnbi\\Documents\\tensorflow\\workspace\\training_demo\\images\\collectedimages\\livelong\\livelong.5f804771-1ad4-11ed-bdcb-94085359df50.jpg -> Annotation:C:/Users/dvnbi/Documents/tensorflow/workspace/training_demo/images/collectedimages/livelong\\livelong.5f804771-1ad4-11ed-bdcb-94085359df50.xml\n",
      "Cancel creation.\n",
      "Image:C:\\Users\\dvnbi\\Documents\\tensorflow\\workspace\\training_demo\\images\\collectedimages\\livelong\\livelong.60b3c537-1ad4-11ed-97be-94085359df50.jpg -> Annotation:C:/Users/dvnbi/Documents/tensorflow/workspace/training_demo/images/collectedimages/livelong\\livelong.60b3c537-1ad4-11ed-97be-94085359df50.xml\n",
      "Image:C:\\Users\\dvnbi\\Documents\\tensorflow\\workspace\\training_demo\\images\\collectedimages\\livelong\\livelong.61e718ee-1ad4-11ed-8a3b-94085359df50.jpg -> Annotation:C:/Users/dvnbi/Documents/tensorflow/workspace/training_demo/images/collectedimages/livelong\\livelong.61e718ee-1ad4-11ed-8a3b-94085359df50.xml\n",
      "Image:C:\\Users\\dvnbi\\Documents\\tensorflow\\workspace\\training_demo\\images\\collectedimages\\livelong\\livelong.66b690ac-1ad4-11ed-bbf4-94085359df50.jpg -> Annotation:C:/Users/dvnbi/Documents/tensorflow/workspace/training_demo/images/collectedimages/livelong\\livelong.66b690ac-1ad4-11ed-bbf4-94085359df50.xml\n",
      "Image:C:\\Users\\dvnbi\\Documents\\tensorflow\\workspace\\training_demo\\images\\collectedimages\\livelong\\livelong.631a5e8d-1ad4-11ed-bb4e-94085359df50.jpg -> Annotation:C:/Users/dvnbi/Documents/tensorflow/workspace/training_demo/images/collectedimages/livelong\\livelong.631a5e8d-1ad4-11ed-bb4e-94085359df50.xml\n",
      "Image:C:\\Users\\dvnbi\\Documents\\tensorflow\\workspace\\training_demo\\images\\collectedimages\\livelong\\livelong.644e3503-1ad4-11ed-be5f-94085359df50.jpg -> Annotation:C:/Users/dvnbi/Documents/tensorflow/workspace/training_demo/images/collectedimages/livelong\\livelong.644e3503-1ad4-11ed-be5f-94085359df50.xml\n",
      "Image:C:\\Users\\dvnbi\\Documents\\tensorflow\\workspace\\training_demo\\images\\collectedimages\\livelong\\livelong.6581fca9-1ad4-11ed-bf7a-94085359df50.jpg -> Annotation:C:/Users/dvnbi/Documents/tensorflow/workspace/training_demo/images/collectedimages/livelong\\livelong.6581fca9-1ad4-11ed-bf7a-94085359df50.xml\n",
      "Image:C:\\Users\\dvnbi\\Documents\\tensorflow\\workspace\\training_demo\\images\\collectedimages\\my\\my.c0f3b14f-1ad2-11ed-abc2-94085359df50.jpg -> Annotation:C:/Users/dvnbi/Documents/tensorflow/workspace/training_demo/images/collectedimages/my\\my.c0f3b14f-1ad2-11ed-abc2-94085359df50.xml\n",
      "Image:C:\\Users\\dvnbi\\Documents\\tensorflow\\workspace\\training_demo\\images\\collectedimages\\my\\my.c5c8ca44-1ad2-11ed-bd04-94085359df50.jpg -> Annotation:C:/Users/dvnbi/Documents/tensorflow/workspace/training_demo/images/collectedimages/my\\my.c5c8ca44-1ad2-11ed-bd04-94085359df50.xml\n",
      "Image:C:\\Users\\dvnbi\\Documents\\tensorflow\\workspace\\training_demo\\images\\collectedimages\\my\\my.c6fb5451-1ad2-11ed-892d-94085359df50.jpg -> Annotation:C:/Users/dvnbi/Documents/tensorflow/workspace/training_demo/images/collectedimages/my\\my.c6fb5451-1ad2-11ed-892d-94085359df50.xml\n",
      "Image:C:\\Users\\dvnbi\\Documents\\tensorflow\\workspace\\training_demo\\images\\collectedimages\\my\\my.c22b3f29-1ad2-11ed-b2a8-94085359df50.jpg -> Annotation:C:/Users/dvnbi/Documents/tensorflow/workspace/training_demo/images/collectedimages/my\\my.c22b3f29-1ad2-11ed-b2a8-94085359df50.xml\n",
      "Image:C:\\Users\\dvnbi\\Documents\\tensorflow\\workspace\\training_demo\\images\\collectedimages\\my\\my.c82e13ce-1ad2-11ed-beb6-94085359df50.jpg -> Annotation:C:/Users/dvnbi/Documents/tensorflow/workspace/training_demo/images/collectedimages/my\\my.c82e13ce-1ad2-11ed-beb6-94085359df50.xml\n",
      "Image:C:\\Users\\dvnbi\\Documents\\tensorflow\\workspace\\training_demo\\images\\collectedimages\\my\\my.c3607ea5-1ad2-11ed-89b0-94085359df50.jpg -> Annotation:C:/Users/dvnbi/Documents/tensorflow/workspace/training_demo/images/collectedimages/my\\my.c3607ea5-1ad2-11ed-89b0-94085359df50.xml\n",
      "Image:C:\\Users\\dvnbi\\Documents\\tensorflow\\workspace\\training_demo\\images\\collectedimages\\my\\my.c4954f8a-1ad2-11ed-8600-94085359df50.jpg -> Annotation:C:/Users/dvnbi/Documents/tensorflow/workspace/training_demo/images/collectedimages/my\\my.c4954f8a-1ad2-11ed-8600-94085359df50.xml\n",
      "Image:C:\\Users\\dvnbi\\Documents\\tensorflow\\workspace\\training_demo\\images\\collectedimages\\my\\my.ca96a028-1ad2-11ed-955e-94085359df50.jpg -> Annotation:C:/Users/dvnbi/Documents/tensorflow/workspace/training_demo/images/collectedimages/my\\my.ca96a028-1ad2-11ed-955e-94085359df50.xml\n",
      "Image:C:\\Users\\dvnbi\\Documents\\tensorflow\\workspace\\training_demo\\images\\collectedimages\\my\\my.cbca1598-1ad2-11ed-9f5e-94085359df50.jpg -> Annotation:C:/Users/dvnbi/Documents/tensorflow/workspace/training_demo/images/collectedimages/my\\my.cbca1598-1ad2-11ed-9f5e-94085359df50.xml\n",
      "Image:C:\\Users\\dvnbi\\Documents\\tensorflow\\workspace\\training_demo\\images\\collectedimages\\n\\n.3b2ee6ed-1ad4-11ed-8c79-94085359df50.jpg -> Annotation:C:/Users/dvnbi/Documents/tensorflow/workspace/training_demo/images/collectedimages/n\\n.3b2ee6ed-1ad4-11ed-8c79-94085359df50.xml\n",
      "Image:C:\\Users\\dvnbi\\Documents\\tensorflow\\workspace\\training_demo\\images\\collectedimages\\n\\n.3c643feb-1ad4-11ed-b39a-94085359df50.jpg -> Annotation:C:/Users/dvnbi/Documents/tensorflow/workspace/training_demo/images/collectedimages/n\\n.3c643feb-1ad4-11ed-b39a-94085359df50.xml\n",
      "Image:C:\\Users\\dvnbi\\Documents\\tensorflow\\workspace\\training_demo\\images\\collectedimages\\n\\n.3d98bc5d-1ad4-11ed-8886-94085359df50.jpg -> Annotation:C:/Users/dvnbi/Documents/tensorflow/workspace/training_demo/images/collectedimages/n\\n.3d98bc5d-1ad4-11ed-8886-94085359df50.xml\n",
      "Image:C:\\Users\\dvnbi\\Documents\\tensorflow\\workspace\\training_demo\\images\\collectedimages\\n\\n.3ecd7e39-1ad4-11ed-b36c-94085359df50.jpg -> Annotation:C:/Users/dvnbi/Documents/tensorflow/workspace/training_demo/images/collectedimages/n\\n.3ecd7e39-1ad4-11ed-b36c-94085359df50.xml\n",
      "Image:C:\\Users\\dvnbi\\Documents\\tensorflow\\workspace\\training_demo\\images\\collectedimages\\n\\n.39fba3ad-1ad4-11ed-b7e3-94085359df50.jpg -> Annotation:C:/Users/dvnbi/Documents/tensorflow/workspace/training_demo/images/collectedimages/n\\n.39fba3ad-1ad4-11ed-b7e3-94085359df50.xml\n",
      "Image:C:\\Users\\dvnbi\\Documents\\tensorflow\\workspace\\training_demo\\images\\collectedimages\\n\\n.439d02d7-1ad4-11ed-9b2d-94085359df50.jpg -> Annotation:C:/Users/dvnbi/Documents/tensorflow/workspace/training_demo/images/collectedimages/n\\n.439d02d7-1ad4-11ed-9b2d-94085359df50.xml\n",
      "Image:C:\\Users\\dvnbi\\Documents\\tensorflow\\workspace\\training_demo\\images\\collectedimages\\n\\n.4001e4ff-1ad4-11ed-b9cb-94085359df50.jpg -> Annotation:C:/Users/dvnbi/Documents/tensorflow/workspace/training_demo/images/collectedimages/n\\n.4001e4ff-1ad4-11ed-b9cb-94085359df50.xml\n",
      "Image:C:\\Users\\dvnbi\\Documents\\tensorflow\\workspace\\training_demo\\images\\collectedimages\\n\\n.4134f2bc-1ad4-11ed-96cd-94085359df50.jpg -> Annotation:C:/Users/dvnbi/Documents/tensorflow/workspace/training_demo/images/collectedimages/n\\n.4134f2bc-1ad4-11ed-96cd-94085359df50.xml\n",
      "Image:C:\\Users\\dvnbi\\Documents\\tensorflow\\workspace\\training_demo\\images\\collectedimages\\n\\n.426825a9-1ad4-11ed-a4fd-94085359df50.jpg -> Annotation:C:/Users/dvnbi/Documents/tensorflow/workspace/training_demo/images/collectedimages/n\\n.426825a9-1ad4-11ed-a4fd-94085359df50.xml\n",
      "Image:C:\\Users\\dvnbi\\Documents\\tensorflow\\workspace\\training_demo\\images\\collectedimages\\name\\name.d8fa093d-1ad2-11ed-bf98-94085359df50.jpg -> Annotation:C:/Users/dvnbi/Documents/tensorflow/workspace/training_demo/images/collectedimages/name\\name.d8fa093d-1ad2-11ed-bf98-94085359df50.xml\n",
      "Image:C:\\Users\\dvnbi\\Documents\\tensorflow\\workspace\\training_demo\\images\\collectedimages\\name\\name.da309bd7-1ad2-11ed-a631-94085359df50.jpg -> Annotation:C:/Users/dvnbi/Documents/tensorflow/workspace/training_demo/images/collectedimages/name\\name.da309bd7-1ad2-11ed-a631-94085359df50.xml\n",
      "Image:C:\\Users\\dvnbi\\Documents\\tensorflow\\workspace\\training_demo\\images\\collectedimages\\name\\name.db64f6c9-1ad2-11ed-851b-94085359df50.jpg -> Annotation:C:/Users/dvnbi/Documents/tensorflow/workspace/training_demo/images/collectedimages/name\\name.db64f6c9-1ad2-11ed-851b-94085359df50.xml\n",
      "Image:C:\\Users\\dvnbi\\Documents\\tensorflow\\workspace\\training_demo\\images\\collectedimages\\name\\name.ddcc662e-1ad2-11ed-a06c-94085359df50.jpg -> Annotation:C:/Users/dvnbi/Documents/tensorflow/workspace/training_demo/images/collectedimages/name\\name.ddcc662e-1ad2-11ed-a06c-94085359df50.xml\n",
      "Image:C:\\Users\\dvnbi\\Documents\\tensorflow\\workspace\\training_demo\\images\\collectedimages\\name\\name.e3d053ef-1ad2-11ed-88cc-94085359df50.jpg -> Annotation:C:/Users/dvnbi/Documents/tensorflow/workspace/training_demo/images/collectedimages/name\\name.e3d053ef-1ad2-11ed-88cc-94085359df50.xml\n",
      "Image:C:\\Users\\dvnbi\\Documents\\tensorflow\\workspace\\training_demo\\images\\collectedimages\\name\\name.e29c4eed-1ad2-11ed-82dc-94085359df50.jpg -> Annotation:C:/Users/dvnbi/Documents/tensorflow/workspace/training_demo/images/collectedimages/name\\name.e29c4eed-1ad2-11ed-82dc-94085359df50.xml\n",
      "Image:C:\\Users\\dvnbi\\Documents\\tensorflow\\workspace\\training_demo\\images\\collectedimages\\name\\name.e167b5b6-1ad2-11ed-b16f-94085359df50.jpg -> Annotation:C:/Users/dvnbi/Documents/tensorflow/workspace/training_demo/images/collectedimages/name\\name.e167b5b6-1ad2-11ed-b16f-94085359df50.xml\n",
      "Image:C:\\Users\\dvnbi\\Documents\\tensorflow\\workspace\\training_demo\\images\\collectedimages\\name\\name.e0334970-1ad2-11ed-a525-94085359df50.jpg -> Annotation:C:/Users/dvnbi/Documents/tensorflow/workspace/training_demo/images/collectedimages/name\\name.e0334970-1ad2-11ed-a525-94085359df50.xml\n",
      "Image:C:\\Users\\dvnbi\\Documents\\tensorflow\\workspace\\training_demo\\images\\collectedimages\\p\\p.7a632f78-1ad3-11ed-8e12-94085359df50.jpg -> Annotation:C:/Users/dvnbi/Documents/tensorflow/workspace/training_demo/images/collectedimages/p\\p.7a632f78-1ad3-11ed-8e12-94085359df50.xml\n",
      "Image:C:\\Users\\dvnbi\\Documents\\tensorflow\\workspace\\training_demo\\images\\collectedimages\\p\\p.7b97c831-1ad3-11ed-afd4-94085359df50.jpg -> Annotation:C:/Users/dvnbi/Documents/tensorflow/workspace/training_demo/images/collectedimages/p\\p.7b97c831-1ad3-11ed-afd4-94085359df50.xml\n",
      "Image:C:\\Users\\dvnbi\\Documents\\tensorflow\\workspace\\training_demo\\images\\collectedimages\\p\\p.7cca58e0-1ad3-11ed-813a-94085359df50.jpg -> Annotation:C:/Users/dvnbi/Documents/tensorflow/workspace/training_demo/images/collectedimages/p\\p.7cca58e0-1ad3-11ed-813a-94085359df50.xml\n",
      "Image:C:\\Users\\dvnbi\\Documents\\tensorflow\\workspace\\training_demo\\images\\collectedimages\\p\\p.7dfecde4-1ad3-11ed-853a-94085359df50.jpg -> Annotation:C:/Users/dvnbi/Documents/tensorflow/workspace/training_demo/images/collectedimages/p\\p.7dfecde4-1ad3-11ed-853a-94085359df50.xml\n",
      "Image:C:\\Users\\dvnbi\\Documents\\tensorflow\\workspace\\training_demo\\images\\collectedimages\\p\\p.7f32e20c-1ad3-11ed-ad95-94085359df50.jpg -> Annotation:C:/Users/dvnbi/Documents/tensorflow/workspace/training_demo/images/collectedimages/p\\p.7f32e20c-1ad3-11ed-ad95-94085359df50.xml\n",
      "Image:C:\\Users\\dvnbi\\Documents\\tensorflow\\workspace\\training_demo\\images\\collectedimages\\p\\p.8a1d114d-1ad3-11ed-b100-94085359df50.jpg -> Annotation:C:/Users/dvnbi/Documents/tensorflow/workspace/training_demo/images/collectedimages/p\\p.8a1d114d-1ad3-11ed-b100-94085359df50.xml\n",
      "Image:C:\\Users\\dvnbi\\Documents\\tensorflow\\workspace\\training_demo\\images\\collectedimages\\p\\p.8b523b2d-1ad3-11ed-af94-94085359df50.jpg -> Annotation:C:/Users/dvnbi/Documents/tensorflow/workspace/training_demo/images/collectedimages/p\\p.8b523b2d-1ad3-11ed-af94-94085359df50.xml\n",
      "Image:C:\\Users\\dvnbi\\Documents\\tensorflow\\workspace\\training_demo\\images\\collectedimages\\p\\p.8c86704c-1ad3-11ed-9735-94085359df50.jpg -> Annotation:C:/Users/dvnbi/Documents/tensorflow/workspace/training_demo/images/collectedimages/p\\p.8c86704c-1ad3-11ed-9735-94085359df50.xml\n",
      "Image:C:\\Users\\dvnbi\\Documents\\tensorflow\\workspace\\training_demo\\images\\collectedimages\\p\\p.8dbc0939-1ad3-11ed-8b40-94085359df50.jpg -> Annotation:C:/Users/dvnbi/Documents/tensorflow/workspace/training_demo/images/collectedimages/p\\p.8dbc0939-1ad3-11ed-8b40-94085359df50.xml\n",
      "Image:C:\\Users\\dvnbi\\Documents\\tensorflow\\workspace\\training_demo\\images\\collectedimages\\p\\p.8ef1d5d6-1ad3-11ed-8a6e-94085359df50.jpg -> Annotation:C:/Users/dvnbi/Documents/tensorflow/workspace/training_demo/images/collectedimages/p\\p.8ef1d5d6-1ad3-11ed-8a6e-94085359df50.xml\n",
      "Image:C:\\Users\\dvnbi\\Documents\\tensorflow\\workspace\\training_demo\\images\\collectedimages\\p\\p.87b1efda-1ad3-11ed-9088-94085359df50.jpg -> Annotation:C:/Users/dvnbi/Documents/tensorflow/workspace/training_demo/images/collectedimages/p\\p.87b1efda-1ad3-11ed-9088-94085359df50.xml\n",
      "Image:C:\\Users\\dvnbi\\Documents\\tensorflow\\workspace\\training_demo\\images\\collectedimages\\r\\r.a96f8e64-1ad3-11ed-8888-94085359df50.jpg -> Annotation:C:/Users/dvnbi/Documents/tensorflow/workspace/training_demo/images/collectedimages/r\\r.a96f8e64-1ad3-11ed-8888-94085359df50.xml\n",
      "Image:C:\\Users\\dvnbi\\Documents\\tensorflow\\workspace\\training_demo\\images\\collectedimages\\r\\r.a838d60f-1ad3-11ed-8639-94085359df50.jpg -> Annotation:C:/Users/dvnbi/Documents/tensorflow/workspace/training_demo/images/collectedimages/r\\r.a838d60f-1ad3-11ed-8639-94085359df50.xml\n",
      "Image:C:\\Users\\dvnbi\\Documents\\tensorflow\\workspace\\training_demo\\images\\collectedimages\\r\\r.aaa3c321-1ad3-11ed-a903-94085359df50.jpg -> Annotation:C:/Users/dvnbi/Documents/tensorflow/workspace/training_demo/images/collectedimages/r\\r.aaa3c321-1ad3-11ed-a903-94085359df50.xml\n",
      "Image:C:\\Users\\dvnbi\\Documents\\tensorflow\\workspace\\training_demo\\images\\collectedimages\\r\\r.abd8e235-1ad3-11ed-a992-94085359df50.jpg -> Annotation:C:/Users/dvnbi/Documents/tensorflow/workspace/training_demo/images/collectedimages/r\\r.abd8e235-1ad3-11ed-a992-94085359df50.xml\n",
      "Image:C:\\Users\\dvnbi\\Documents\\tensorflow\\workspace\\training_demo\\images\\collectedimages\\r\\r.ad0c4423-1ad3-11ed-92a2-94085359df50.jpg -> Annotation:C:/Users/dvnbi/Documents/tensorflow/workspace/training_demo/images/collectedimages/r\\r.ad0c4423-1ad3-11ed-92a2-94085359df50.xml\n",
      "Image:C:\\Users\\dvnbi\\Documents\\tensorflow\\workspace\\training_demo\\images\\collectedimages\\r\\r.ae400b47-1ad3-11ed-b27a-94085359df50.jpg -> Annotation:C:/Users/dvnbi/Documents/tensorflow/workspace/training_demo/images/collectedimages/r\\r.ae400b47-1ad3-11ed-b27a-94085359df50.xml\n",
      "Image:C:\\Users\\dvnbi\\Documents\\tensorflow\\workspace\\training_demo\\images\\collectedimages\\r\\r.af770085-1ad3-11ed-8a3d-94085359df50.jpg -> Annotation:C:/Users/dvnbi/Documents/tensorflow/workspace/training_demo/images/collectedimages/r\\r.af770085-1ad3-11ed-8a3d-94085359df50.xml\n",
      "Image:C:\\Users\\dvnbi\\Documents\\tensorflow\\workspace\\training_demo\\images\\collectedimages\\r\\r.b0aadb9a-1ad3-11ed-b950-94085359df50.jpg -> Annotation:C:/Users/dvnbi/Documents/tensorflow/workspace/training_demo/images/collectedimages/r\\r.b0aadb9a-1ad3-11ed-b950-94085359df50.xml\n",
      "Image:C:\\Users\\dvnbi\\Documents\\tensorflow\\workspace\\training_demo\\images\\collectedimages\\r\\r.b1dfb4e7-1ad3-11ed-b3a6-94085359df50.jpg -> Annotation:C:/Users/dvnbi/Documents/tensorflow/workspace/training_demo/images/collectedimages/r\\r.b1dfb4e7-1ad3-11ed-b3a6-94085359df50.xml\n",
      "Image:C:\\Users\\dvnbi\\Documents\\tensorflow\\workspace\\training_demo\\images\\collectedimages\\r\\r.b312f3fa-1ad3-11ed-b4c6-94085359df50.jpg -> Annotation:C:/Users/dvnbi/Documents/tensorflow/workspace/training_demo/images/collectedimages/r\\r.b312f3fa-1ad3-11ed-b4c6-94085359df50.xml\n",
      "Image:C:\\Users\\dvnbi\\Documents\\tensorflow\\workspace\\training_demo\\images\\collectedimages\\thankyou\\thankyou.4abedfd1-1ad4-11ed-bec2-94085359df50.jpg -> Annotation:C:/Users/dvnbi/Documents/tensorflow/workspace/training_demo/images/collectedimages/thankyou\\thankyou.4abedfd1-1ad4-11ed-bec2-94085359df50.xml\n",
      "Image:C:\\Users\\dvnbi\\Documents\\tensorflow\\workspace\\training_demo\\images\\collectedimages\\thankyou\\thankyou.4bf55025-1ad4-11ed-941a-94085359df50.jpg -> Annotation:C:/Users/dvnbi/Documents/tensorflow/workspace/training_demo/images/collectedimages/thankyou\\thankyou.4bf55025-1ad4-11ed-941a-94085359df50.xml\n",
      "Image:C:\\Users\\dvnbi\\Documents\\tensorflow\\workspace\\training_demo\\images\\collectedimages\\thankyou\\thankyou.4d282e0a-1ad4-11ed-9dc9-94085359df50.jpg -> Annotation:C:/Users/dvnbi/Documents/tensorflow/workspace/training_demo/images/collectedimages/thankyou\\thankyou.4d282e0a-1ad4-11ed-9dc9-94085359df50.xml\n",
      "Image:C:\\Users\\dvnbi\\Documents\\tensorflow\\workspace\\training_demo\\images\\collectedimages\\thankyou\\thankyou.4e5e2e40-1ad4-11ed-9e3e-94085359df50.jpg -> Annotation:C:/Users/dvnbi/Documents/tensorflow/workspace/training_demo/images/collectedimages/thankyou\\thankyou.4e5e2e40-1ad4-11ed-9e3e-94085359df50.xml\n",
      "Image:C:\\Users\\dvnbi\\Documents\\tensorflow\\workspace\\training_demo\\images\\collectedimages\\thankyou\\thankyou.4f9238d2-1ad4-11ed-8083-94085359df50.jpg -> Annotation:C:/Users/dvnbi/Documents/tensorflow/workspace/training_demo/images/collectedimages/thankyou\\thankyou.4f9238d2-1ad4-11ed-8083-94085359df50.xml\n",
      "Image:C:\\Users\\dvnbi\\Documents\\tensorflow\\workspace\\training_demo\\images\\collectedimages\\thankyou\\thankyou.50c59dcd-1ad4-11ed-a6ee-94085359df50.jpg -> Annotation:C:/Users/dvnbi/Documents/tensorflow/workspace/training_demo/images/collectedimages/thankyou\\thankyou.50c59dcd-1ad4-11ed-a6ee-94085359df50.xml\n",
      "Image:C:\\Users\\dvnbi\\Documents\\tensorflow\\workspace\\training_demo\\images\\collectedimages\\thankyou\\thankyou.51f88c41-1ad4-11ed-9339-94085359df50.jpg -> Annotation:C:/Users/dvnbi/Documents/tensorflow/workspace/training_demo/images/collectedimages/thankyou\\thankyou.51f88c41-1ad4-11ed-9339-94085359df50.xml\n",
      "Image:C:\\Users\\dvnbi\\Documents\\tensorflow\\workspace\\training_demo\\images\\collectedimages\\thankyou\\thankyou.532cd3af-1ad4-11ed-b0b3-94085359df50.jpg -> Annotation:C:/Users/dvnbi/Documents/tensorflow/workspace/training_demo/images/collectedimages/thankyou\\thankyou.532cd3af-1ad4-11ed-b0b3-94085359df50.xml\n",
      "Image:C:\\Users\\dvnbi\\Documents\\tensorflow\\workspace\\training_demo\\images\\collectedimages\\thankyou\\thankyou.5595ec5e-1ad4-11ed-aecf-94085359df50.jpg -> Annotation:C:/Users/dvnbi/Documents/tensorflow/workspace/training_demo/images/collectedimages/thankyou\\thankyou.5595ec5e-1ad4-11ed-aecf-94085359df50.xml\n",
      "Image:C:\\Users\\dvnbi\\Documents\\tensorflow\\workspace\\training_demo\\images\\collectedimages\\thankyou\\thankyou.54619a02-1ad4-11ed-b922-94085359df50.jpg -> Annotation:C:/Users/dvnbi/Documents/tensorflow/workspace/training_demo/images/collectedimages/thankyou\\thankyou.54619a02-1ad4-11ed-b922-94085359df50.xml\n",
      "Image:C:\\Users\\dvnbi\\Documents\\tensorflow\\workspace\\training_demo\\images\\collectedimages\\v\\v.2a426c45-1ad3-11ed-8af8-94085359df50.jpg -> Annotation:C:/Users/dvnbi/Documents/tensorflow/workspace/training_demo/images/collectedimages/v\\v.2a426c45-1ad3-11ed-8af8-94085359df50.xml\n",
      "Image:C:\\Users\\dvnbi\\Documents\\tensorflow\\workspace\\training_demo\\images\\collectedimages\\v\\v.2b77311a-1ad3-11ed-b208-94085359df50.jpg -> Annotation:C:/Users/dvnbi/Documents/tensorflow/workspace/training_demo/images/collectedimages/v\\v.2b77311a-1ad3-11ed-b208-94085359df50.xml\n",
      "Image:C:\\Users\\dvnbi\\Documents\\tensorflow\\workspace\\training_demo\\images\\collectedimages\\v\\v.2cacbbf3-1ad3-11ed-b9ed-94085359df50.jpg -> Annotation:C:/Users/dvnbi/Documents/tensorflow/workspace/training_demo/images/collectedimages/v\\v.2cacbbf3-1ad3-11ed-b9ed-94085359df50.xml\n",
      "Image:C:\\Users\\dvnbi\\Documents\\tensorflow\\workspace\\training_demo\\images\\collectedimages\\v\\v.2de15240-1ad3-11ed-a88b-94085359df50.jpg -> Annotation:C:/Users/dvnbi/Documents/tensorflow/workspace/training_demo/images/collectedimages/v\\v.2de15240-1ad3-11ed-a88b-94085359df50.xml\n",
      "Image:C:\\Users\\dvnbi\\Documents\\tensorflow\\workspace\\training_demo\\images\\collectedimages\\v\\v.2f156556-1ad3-11ed-8802-94085359df50.jpg -> Annotation:C:/Users/dvnbi/Documents/tensorflow/workspace/training_demo/images/collectedimages/v\\v.2f156556-1ad3-11ed-8802-94085359df50.xml\n",
      "Image:C:\\Users\\dvnbi\\Documents\\tensorflow\\workspace\\training_demo\\images\\collectedimages\\v\\v.32aedec7-1ad3-11ed-8596-94085359df50.jpg -> Annotation:C:/Users/dvnbi/Documents/tensorflow/workspace/training_demo/images/collectedimages/v\\v.32aedec7-1ad3-11ed-8596-94085359df50.xml\n",
      "Image:C:\\Users\\dvnbi\\Documents\\tensorflow\\workspace\\training_demo\\images\\collectedimages\\v\\v.33e2726c-1ad3-11ed-a7fd-94085359df50.jpg -> Annotation:C:/Users/dvnbi/Documents/tensorflow/workspace/training_demo/images/collectedimages/v\\v.33e2726c-1ad3-11ed-a7fd-94085359df50.xml\n",
      "Image:C:\\Users\\dvnbi\\Documents\\tensorflow\\workspace\\training_demo\\images\\collectedimages\\v\\v.290bce9a-1ad3-11ed-89cd-94085359df50.jpg -> Annotation:C:/Users/dvnbi/Documents/tensorflow/workspace/training_demo/images/collectedimages/v\\v.290bce9a-1ad3-11ed-89cd-94085359df50.xml\n",
      "Cancel creation.\n",
      "Image:C:\\Users\\dvnbi\\Documents\\tensorflow\\workspace\\training_demo\\images\\collectedimages\\v\\v.317c2f70-1ad3-11ed-86e8-94085359df50.jpg -> Annotation:C:/Users/dvnbi/Documents/tensorflow/workspace/training_demo/images/collectedimages/v\\v.317c2f70-1ad3-11ed-86e8-94085359df50.xml\n",
      "Image:C:\\Users\\dvnbi\\Documents\\tensorflow\\workspace\\training_demo\\images\\collectedimages\\v\\v.30486e30-1ad3-11ed-88e6-94085359df50.jpg -> Annotation:C:/Users/dvnbi/Documents/tensorflow/workspace/training_demo/images/collectedimages/v\\v.30486e30-1ad3-11ed-88e6-94085359df50.xml\n",
      "Image:C:\\Users\\dvnbi\\Documents\\tensorflow\\workspace\\training_demo\\images\\collectedimages\\y\\y.3d4d0efc-1ad3-11ed-afb3-94085359df50.jpg -> Annotation:C:/Users/dvnbi/Documents/tensorflow/workspace/training_demo/images/collectedimages/y\\y.3d4d0efc-1ad3-11ed-afb3-94085359df50.xml\n",
      "Image:C:\\Users\\dvnbi\\Documents\\tensorflow\\workspace\\training_demo\\images\\collectedimages\\y\\y.3e83ee01-1ad3-11ed-8a54-94085359df50.jpg -> Annotation:C:/Users/dvnbi/Documents/tensorflow/workspace/training_demo/images/collectedimages/y\\y.3e83ee01-1ad3-11ed-8a54-94085359df50.xml\n",
      "Image:C:\\Users\\dvnbi\\Documents\\tensorflow\\workspace\\training_demo\\images\\collectedimages\\y\\y.3fb73499-1ad3-11ed-91eb-94085359df50.jpg -> Annotation:C:/Users/dvnbi/Documents/tensorflow/workspace/training_demo/images/collectedimages/y\\y.3fb73499-1ad3-11ed-91eb-94085359df50.xml\n",
      "Image:C:\\Users\\dvnbi\\Documents\\tensorflow\\workspace\\training_demo\\images\\collectedimages\\y\\y.40eb8abb-1ad3-11ed-b0e9-94085359df50.jpg -> Annotation:C:/Users/dvnbi/Documents/tensorflow/workspace/training_demo/images/collectedimages/y\\y.40eb8abb-1ad3-11ed-b0e9-94085359df50.xml\n",
      "Image:C:\\Users\\dvnbi\\Documents\\tensorflow\\workspace\\training_demo\\images\\collectedimages\\y\\y.45b843a9-1ad3-11ed-aef8-94085359df50.jpg -> Annotation:C:/Users/dvnbi/Documents/tensorflow/workspace/training_demo/images/collectedimages/y\\y.45b843a9-1ad3-11ed-aef8-94085359df50.xml\n",
      "Image:C:\\Users\\dvnbi\\Documents\\tensorflow\\workspace\\training_demo\\images\\collectedimages\\y\\y.46eb8874-1ad3-11ed-8068-94085359df50.jpg -> Annotation:C:/Users/dvnbi/Documents/tensorflow/workspace/training_demo/images/collectedimages/y\\y.46eb8874-1ad3-11ed-8068-94085359df50.xml\n",
      "Image:C:\\Users\\dvnbi\\Documents\\tensorflow\\workspace\\training_demo\\images\\collectedimages\\y\\y.421ee7e0-1ad3-11ed-8c0e-94085359df50.jpg -> Annotation:C:/Users/dvnbi/Documents/tensorflow/workspace/training_demo/images/collectedimages/y\\y.421ee7e0-1ad3-11ed-8c0e-94085359df50.xml\n",
      "Image:C:\\Users\\dvnbi\\Documents\\tensorflow\\workspace\\training_demo\\images\\collectedimages\\y\\y.481e5c73-1ad3-11ed-8e84-94085359df50.jpg -> Annotation:C:/Users/dvnbi/Documents/tensorflow/workspace/training_demo/images/collectedimages/y\\y.481e5c73-1ad3-11ed-8e84-94085359df50.xml\n",
      "Image:C:\\Users\\dvnbi\\Documents\\tensorflow\\workspace\\training_demo\\images\\collectedimages\\y\\y.43520ec4-1ad3-11ed-a1ae-94085359df50.jpg -> Annotation:C:/Users/dvnbi/Documents/tensorflow/workspace/training_demo/images/collectedimages/y\\y.43520ec4-1ad3-11ed-a1ae-94085359df50.xml\n",
      "Cancel creation.\n",
      "Image:C:\\Users\\dvnbi\\Documents\\tensorflow\\workspace\\training_demo\\images\\collectedimages\\y\\y.421ee7e0-1ad3-11ed-8c0e-94085359df50.jpg -> Annotation:C:/Users/dvnbi/Documents/tensorflow/workspace/training_demo/images/collectedimages/y\\y.421ee7e0-1ad3-11ed-8c0e-94085359df50.xml\n",
      "Image:C:\\Users\\dvnbi\\Documents\\tensorflow\\workspace\\training_demo\\images\\collectedimages\\y\\y.481e5c73-1ad3-11ed-8e84-94085359df50.jpg -> Annotation:C:/Users/dvnbi/Documents/tensorflow/workspace/training_demo/images/collectedimages/y\\y.481e5c73-1ad3-11ed-8e84-94085359df50.xml\n",
      "Image:C:\\Users\\dvnbi\\Documents\\tensorflow\\workspace\\training_demo\\images\\collectedimages\\y\\y.43520ec4-1ad3-11ed-a1ae-94085359df50.jpg -> Annotation:C:/Users/dvnbi/Documents/tensorflow/workspace/training_demo/images/collectedimages/y\\y.43520ec4-1ad3-11ed-a1ae-94085359df50.xml\n",
      "Image:C:\\Users\\dvnbi\\Documents\\tensorflow\\workspace\\training_demo\\images\\collectedimages\\y\\y.44853cf0-1ad3-11ed-aab5-94085359df50.jpg -> Annotation:C:/Users/dvnbi/Documents/tensorflow/workspace/training_demo/images/collectedimages/y\\y.44853cf0-1ad3-11ed-aab5-94085359df50.xml\n"
     ]
    }
   ],
   "source": [
    "#calling labelimg\n",
    "!cd {LABELIMG_PATH} && python labelImg.py"
   ]
  },
  {
   "cell_type": "code",
   "execution_count": null,
   "metadata": {},
   "outputs": [],
   "source": []
  }
 ],
 "metadata": {
  "kernelspec": {
   "display_name": "Python 3.9.0 ('tfod2')",
   "language": "python",
   "name": "python3"
  },
  "language_info": {
   "codemirror_mode": {
    "name": "ipython",
    "version": 3
   },
   "file_extension": ".py",
   "mimetype": "text/x-python",
   "name": "python",
   "nbconvert_exporter": "python",
   "pygments_lexer": "ipython3",
   "version": "3.9.0"
  },
  "orig_nbformat": 4,
  "vscode": {
   "interpreter": {
    "hash": "27604b014c7d8e03d9e8e66f031e78846ab463508a24dc502c9dc0bb81369ab3"
   }
  }
 },
 "nbformat": 4,
 "nbformat_minor": 2
}
